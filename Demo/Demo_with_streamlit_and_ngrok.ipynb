{
  "nbformat": 4,
  "nbformat_minor": 0,
  "metadata": {
    "colab": {
      "name": "Demo_with_streamlit_and_ngrok.ipynb",
      "provenance": []
    },
    "kernelspec": {
      "name": "python3",
      "display_name": "Python 3"
    },
    "language_info": {
      "name": "python"
    },
    "accelerator": "GPU"
  },
  "cells": [
    {
      "cell_type": "code",
      "execution_count": null,
      "metadata": {
        "colab": {
          "base_uri": "https://localhost:8080/"
        },
        "id": "Sb1vaOUzMIq5",
        "outputId": "52b87f46-9927-40e0-ec30-cc681a447efb"
      },
      "outputs": [
        {
          "output_type": "stream",
          "name": "stdout",
          "text": [
            "Mounted at /content/drive\n"
          ]
        }
      ],
      "source": [
        "from google.colab import drive\n",
        "drive.mount('/content/drive')"
      ]
    },
    {
      "cell_type": "code",
      "source": [
        "!pip install transformers"
      ],
      "metadata": {
        "id": "0AtDGLrXOJae"
      },
      "execution_count": null,
      "outputs": []
    },
    {
      "cell_type": "code",
      "source": [
        "!git clone -b master https://github.com/vohung471999/Transformer.git"
      ],
      "metadata": {
        "id": "GjF06NPjMdEX"
      },
      "execution_count": null,
      "outputs": []
    },
    {
      "cell_type": "code",
      "source": [
        "!pip install streamlit"
      ],
      "metadata": {
        "id": "3nNh9lho98sy"
      },
      "execution_count": null,
      "outputs": []
    },
    {
      "cell_type": "code",
      "source": [
        "!pip install pyngrok==4.1.1"
      ],
      "metadata": {
        "id": "yHithVpi98wU"
      },
      "execution_count": null,
      "outputs": []
    },
    {
      "cell_type": "code",
      "source": [
        "%%writefile app.py\n",
        "import streamlit as st\n",
        "import torch\n",
        "from Transformer.utils.beamsearch import beam_summarize\n",
        "from Transformer.model.transformer_model import Transformer\n",
        "from Transformer.model.transformer_config import TransformerConfig\n",
        "from transformers import BartForConditionalGeneration, BartTokenizer\n",
        "import torch\n",
        "\n",
        "kwargs = {\n",
        "    'vocab_size': 50264,\n",
        "    'max_position_embeddings': 1024,\n",
        "    'num_encoder_layers': 12,\n",
        "    'encoder_ffn_dim': 4096,\n",
        "    'encoder_attention_heads': 16,\n",
        "    'num_decoder_layers': 12,\n",
        "    'decoder_ffn_dim': 4096,\n",
        "    'decoder_attention_heads': 16,\n",
        "    'encoder_layer_dropout': 0.0,\n",
        "    'decoder_layer_dropout': 0.0,\n",
        "    'activation_function': 'gelu',\n",
        "    'layer_norm_eps': 1e-5,\n",
        "    'model_dim': 1024,\n",
        "    'dropout': 0.1,\n",
        "    'attention_dropout': 0.0,\n",
        "    'activation_dropout': 0.0,\n",
        "    'pad_token_id': 1,\n",
        "    'device': 'cuda',\n",
        "    'dtype': torch.float32\n",
        "}\n",
        "tran_conf = TransformerConfig(**kwargs)\n",
        "\n",
        "transformer = Transformer(tran_conf)\n",
        "transformer.load_state_dict(torch.load('/content/drive/MyDrive/final_model.pt'))\n",
        "\n",
        "tokenizer = BartTokenizer.from_pretrained('facebook/bart-large-cnn')\n",
        "\n",
        "st.set_page_config(page_title='Text summarization', layout='wide', initial_sidebar_state='expanded')\n",
        "st.title(\"Text Summarization\")\n",
        "text = st.text_area(\"Enter text:\",height=None,max_chars=None,key=None,help=\"Enter your text here\")\n",
        "menu = [\"Home\",]\n",
        "choice = st.sidebar.selectbox('Menu',menu)\n",
        "\n",
        "if st.button('Summarize text'):\n",
        "    if text == \"\":\n",
        "        st.warning('Please **enter text** for summarize')\n",
        "    else:\n",
        "        summary_text = beam_summarize(transformer, tokenizer, str(text), 'cuda')\n",
        "        st.info(summary_text)\n",
        "else:\n",
        "    pass\n"
      ],
      "metadata": {
        "id": "tMHm9jZC98zs"
      },
      "execution_count": null,
      "outputs": []
    },
    {
      "cell_type": "code",
      "source": [
        "!ls"
      ],
      "metadata": {
        "id": "0MKd2rYZ_Gx2"
      },
      "execution_count": null,
      "outputs": []
    },
    {
      "cell_type": "code",
      "source": [
        "!ngrok authtoken 25x62qETrSghTPVJLAw25kqjxx7_6b1ZetpFpbb55fGnE3DR9"
      ],
      "metadata": {
        "id": "vMEUHXZWLq7-"
      },
      "execution_count": null,
      "outputs": []
    },
    {
      "cell_type": "code",
      "source": [
        "from pyngrok import ngrok"
      ],
      "metadata": {
        "id": "CtmWgJbz-YFB"
      },
      "execution_count": null,
      "outputs": []
    },
    {
      "cell_type": "code",
      "source": [
        "!nohup streamlit run app.py &\n",
        "url = ngrok.connect(port='8501')\n",
        "print(url)"
      ],
      "metadata": {
        "id": "_jQrdeRY_HJo"
      },
      "execution_count": null,
      "outputs": []
    },
    {
      "cell_type": "code",
      "source": [
        "# !pgrep streamlit"
      ],
      "metadata": {
        "id": "vjaWNyIdNCy0"
      },
      "execution_count": null,
      "outputs": []
    },
    {
      "cell_type": "code",
      "source": [
        "# !kill 387"
      ],
      "metadata": {
        "id": "7emWFhlb3oH6"
      },
      "execution_count": null,
      "outputs": []
    },
    {
      "cell_type": "code",
      "source": [
        "# ngrok.kill()"
      ],
      "metadata": {
        "id": "UP9MTcEKNYV4"
      },
      "execution_count": null,
      "outputs": []
    },
    {
      "cell_type": "code",
      "source": [
        ""
      ],
      "metadata": {
        "id": "79MMNGKGMdKL"
      },
      "execution_count": null,
      "outputs": []
    }
  ]
}